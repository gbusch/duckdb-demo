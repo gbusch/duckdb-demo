{
 "cells": [
  {
   "cell_type": "code",
   "execution_count": null,
   "metadata": {},
   "outputs": [],
   "source": [
    "import pandas as pd\n",
    "import sqlalchemy\n",
    "\n",
    "%load_ext sql\n",
    "\n",
    "# Set a few config options to prettify the output and return it as Pandas DataFrame\n",
    "%config SqlMagic.autopandas = True\n",
    "%config SqlMagic.feedback = False\n",
    "%config SqlMagic.displaycon = False\n",
    "\n",
    "%sql duckdb:///:memory:\n",
    "# DuckDB is primarily designed to be an in-memory DB. You can however persist your data to disk.\n",
    "# %sql duckdb:///path/to/file.db"
   ]
  },
  {
   "cell_type": "code",
   "execution_count": null,
   "metadata": {
    "vscode": {
     "languageId": "sql"
    }
   },
   "outputs": [],
   "source": [
    "%%sql\n",
    "SELECT 1 AS a;"
   ]
  },
  {
   "cell_type": "code",
   "execution_count": null,
   "metadata": {
    "vscode": {
     "languageId": "sql"
    }
   },
   "outputs": [],
   "source": [
    "%%sql\n",
    "\n",
    "SELECT *\n",
    "FROM './csv-data/2009.csv'\n",
    "LIMIT 5;"
   ]
  },
  {
   "cell_type": "code",
   "execution_count": null,
   "metadata": {
    "vscode": {
     "languageId": "sql"
    }
   },
   "outputs": [],
   "source": [
    "pd.read_csv('./csv-data/2009.csv').head(5)"
   ]
  },
  {
   "cell_type": "code",
   "execution_count": null,
   "metadata": {
    "vscode": {
     "languageId": "sql"
    }
   },
   "outputs": [],
   "source": [
    "pd.read_csv('./csv-data/2009.csv', nrows=5)"
   ]
  },
  {
   "cell_type": "code",
   "execution_count": null,
   "metadata": {
    "vscode": {
     "languageId": "sql"
    }
   },
   "outputs": [],
   "source": [
    "%%sql\n",
    "\n",
    "-- copy from csv to parquet, this takes 6 minutes\n",
    "\n",
    "DROP TABLE IF EXISTS TempTable;\n",
    "\n",
    "CREATE TABLE TempTable\n",
    "AS SELECT * FROM './csv-data/*.csv';\n",
    "\n",
    "ALTER TABLE TempTable\n",
    "DROP COLUMN \"Unnamed: 27\";\n",
    "\n",
    "COPY TempTable TO 'parquet-data/data.parquet';"
   ]
  },
  {
   "cell_type": "code",
   "execution_count": null,
   "metadata": {
    "vscode": {
     "languageId": "sql"
    }
   },
   "outputs": [],
   "source": [
    "! echo \"csv data\" && ls -lh csv-data/\n",
    "! echo \"parquet data\" && ls -lh parquet-data/data.parquet"
   ]
  },
  {
   "cell_type": "code",
   "execution_count": null,
   "metadata": {
    "vscode": {
     "languageId": "sql"
    }
   },
   "outputs": [],
   "source": [
    "%%sql\n",
    "\n",
    "SELECT OP_CARRIER, MAX(ARR_DELAY) AS max_delay\n",
    "FROM 'parquet-data/data.parquet'\n",
    "GROUP BY OP_CARRIER\n",
    "ORDER BY max_delay DESC\n",
    "LIMIT 5;"
   ]
  },
  {
   "cell_type": "code",
   "execution_count": null,
   "metadata": {
    "vscode": {
     "languageId": "sql"
    }
   },
   "outputs": [],
   "source": [
    "import duckdb\n",
    "\n",
    "top_avg_5 = duckdb.query(\n",
    "    \"\"\"\n",
    "    SELECT OP_CARRIER, AVG(ARR_DELAY) AS avg_delay\n",
    "    FROM 'parquet-data/data.parquet'\n",
    "    GROUP BY OP_CARRIER\n",
    "    ORDER BY avg_delay DESC\n",
    "    LIMIT 5;\n",
    "    \"\"\"\n",
    ").to_df()"
   ]
  },
  {
   "cell_type": "code",
   "execution_count": null,
   "metadata": {
    "vscode": {
     "languageId": "sql"
    }
   },
   "outputs": [],
   "source": [
    "top_avg_5.plot.bar(x=\"OP_CARRIER\");"
   ]
  },
  {
   "cell_type": "code",
   "execution_count": null,
   "metadata": {
    "vscode": {
     "languageId": "sql"
    }
   },
   "outputs": [],
   "source": [
    "%%sql\n",
    "\n",
    "CREATE VIEW airlinedata AS SELECT * FROM 'parquet-data/data.parquet';\n",
    "\n",
    "SELECT OP_CARRIER, MIN(ARR_DELAY), AVG(ARR_DELAY), MAX(ARR_DELAY)\n",
    "FROM airlinedata\n",
    "GROUP BY OP_CARRIER;"
   ]
  },
  {
   "cell_type": "code",
   "execution_count": null,
   "metadata": {
    "vscode": {
     "languageId": "sql"
    }
   },
   "outputs": [],
   "source": []
  }
 ],
 "metadata": {
  "kernelspec": {
   "display_name": "Python 3.9.1 64-bit",
   "language": "python",
   "name": "python3"
  },
  "language_info": {
   "codemirror_mode": {
    "name": "ipython",
    "version": 3
   },
   "file_extension": ".py",
   "mimetype": "text/x-python",
   "name": "python",
   "nbconvert_exporter": "python",
   "pygments_lexer": "ipython3",
   "version": "3.9.1"
  },
  "vscode": {
   "interpreter": {
    "hash": "aee8b7b246df8f9039afb4144a1f6fd8d2ca17a180786b69acc140d282b71a49"
   }
  }
 },
 "nbformat": 4,
 "nbformat_minor": 2
}
